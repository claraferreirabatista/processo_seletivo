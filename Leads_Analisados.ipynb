{
  "nbformat": 4,
  "nbformat_minor": 0,
  "metadata": {
    "colab": {
      "provenance": [],
      "toc_visible": true,
      "authorship_tag": "ABX9TyNpgImSTHLkopPiAL+WEZ4V",
      "include_colab_link": true
    },
    "kernelspec": {
      "name": "python3",
      "display_name": "Python 3"
    },
    "language_info": {
      "name": "python"
    }
  },
  "cells": [
    {
      "cell_type": "markdown",
      "metadata": {
        "id": "view-in-github",
        "colab_type": "text"
      },
      "source": [
        "<a href=\"https://colab.research.google.com/github/claraferreirabatista/processo_seletivo/blob/main/Leads_Analisados.ipynb\" target=\"_parent\"><img src=\"https://colab.research.google.com/assets/colab-badge.svg\" alt=\"Open In Colab\"/></a>"
      ]
    },
    {
      "cell_type": "markdown",
      "source": [
        "# IMPORTANDO OS DADOS"
      ],
      "metadata": {
        "id": "-ZQUCif3EKmO"
      }
    },
    {
      "cell_type": "markdown",
      "source": [
        "# Contagem de cada tipo Campanha"
      ],
      "metadata": {
        "id": "TM72qRJWEQzS"
      }
    },
    {
      "cell_type": "code",
      "source": [
        "from google.colab import files\n",
        "uploaded = files.upload()\n"
      ],
      "metadata": {
        "colab": {
          "base_uri": "https://localhost:8080/",
          "height": 107
        },
        "id": "kUmssavNzGxF",
        "outputId": "1cc23b08-618f-4f29-c830-0ce7e9d23563"
      },
      "execution_count": 1,
      "outputs": [
        {
          "output_type": "display_data",
          "data": {
            "text/plain": [
              "<IPython.core.display.HTML object>"
            ],
            "text/html": [
              "\n",
              "     <input type=\"file\" id=\"files-ec5dfb5a-4d52-432d-ac0e-1603980139da\" name=\"files[]\" multiple disabled\n",
              "        style=\"border:none\" />\n",
              "     <output id=\"result-ec5dfb5a-4d52-432d-ac0e-1603980139da\">\n",
              "      Upload widget is only available when the cell has been executed in the\n",
              "      current browser session. Please rerun this cell to enable.\n",
              "      </output>\n",
              "      <script>// Copyright 2017 Google LLC\n",
              "//\n",
              "// Licensed under the Apache License, Version 2.0 (the \"License\");\n",
              "// you may not use this file except in compliance with the License.\n",
              "// You may obtain a copy of the License at\n",
              "//\n",
              "//      http://www.apache.org/licenses/LICENSE-2.0\n",
              "//\n",
              "// Unless required by applicable law or agreed to in writing, software\n",
              "// distributed under the License is distributed on an \"AS IS\" BASIS,\n",
              "// WITHOUT WARRANTIES OR CONDITIONS OF ANY KIND, either express or implied.\n",
              "// See the License for the specific language governing permissions and\n",
              "// limitations under the License.\n",
              "\n",
              "/**\n",
              " * @fileoverview Helpers for google.colab Python module.\n",
              " */\n",
              "(function(scope) {\n",
              "function span(text, styleAttributes = {}) {\n",
              "  const element = document.createElement('span');\n",
              "  element.textContent = text;\n",
              "  for (const key of Object.keys(styleAttributes)) {\n",
              "    element.style[key] = styleAttributes[key];\n",
              "  }\n",
              "  return element;\n",
              "}\n",
              "\n",
              "// Max number of bytes which will be uploaded at a time.\n",
              "const MAX_PAYLOAD_SIZE = 100 * 1024;\n",
              "\n",
              "function _uploadFiles(inputId, outputId) {\n",
              "  const steps = uploadFilesStep(inputId, outputId);\n",
              "  const outputElement = document.getElementById(outputId);\n",
              "  // Cache steps on the outputElement to make it available for the next call\n",
              "  // to uploadFilesContinue from Python.\n",
              "  outputElement.steps = steps;\n",
              "\n",
              "  return _uploadFilesContinue(outputId);\n",
              "}\n",
              "\n",
              "// This is roughly an async generator (not supported in the browser yet),\n",
              "// where there are multiple asynchronous steps and the Python side is going\n",
              "// to poll for completion of each step.\n",
              "// This uses a Promise to block the python side on completion of each step,\n",
              "// then passes the result of the previous step as the input to the next step.\n",
              "function _uploadFilesContinue(outputId) {\n",
              "  const outputElement = document.getElementById(outputId);\n",
              "  const steps = outputElement.steps;\n",
              "\n",
              "  const next = steps.next(outputElement.lastPromiseValue);\n",
              "  return Promise.resolve(next.value.promise).then((value) => {\n",
              "    // Cache the last promise value to make it available to the next\n",
              "    // step of the generator.\n",
              "    outputElement.lastPromiseValue = value;\n",
              "    return next.value.response;\n",
              "  });\n",
              "}\n",
              "\n",
              "/**\n",
              " * Generator function which is called between each async step of the upload\n",
              " * process.\n",
              " * @param {string} inputId Element ID of the input file picker element.\n",
              " * @param {string} outputId Element ID of the output display.\n",
              " * @return {!Iterable<!Object>} Iterable of next steps.\n",
              " */\n",
              "function* uploadFilesStep(inputId, outputId) {\n",
              "  const inputElement = document.getElementById(inputId);\n",
              "  inputElement.disabled = false;\n",
              "\n",
              "  const outputElement = document.getElementById(outputId);\n",
              "  outputElement.innerHTML = '';\n",
              "\n",
              "  const pickedPromise = new Promise((resolve) => {\n",
              "    inputElement.addEventListener('change', (e) => {\n",
              "      resolve(e.target.files);\n",
              "    });\n",
              "  });\n",
              "\n",
              "  const cancel = document.createElement('button');\n",
              "  inputElement.parentElement.appendChild(cancel);\n",
              "  cancel.textContent = 'Cancel upload';\n",
              "  const cancelPromise = new Promise((resolve) => {\n",
              "    cancel.onclick = () => {\n",
              "      resolve(null);\n",
              "    };\n",
              "  });\n",
              "\n",
              "  // Wait for the user to pick the files.\n",
              "  const files = yield {\n",
              "    promise: Promise.race([pickedPromise, cancelPromise]),\n",
              "    response: {\n",
              "      action: 'starting',\n",
              "    }\n",
              "  };\n",
              "\n",
              "  cancel.remove();\n",
              "\n",
              "  // Disable the input element since further picks are not allowed.\n",
              "  inputElement.disabled = true;\n",
              "\n",
              "  if (!files) {\n",
              "    return {\n",
              "      response: {\n",
              "        action: 'complete',\n",
              "      }\n",
              "    };\n",
              "  }\n",
              "\n",
              "  for (const file of files) {\n",
              "    const li = document.createElement('li');\n",
              "    li.append(span(file.name, {fontWeight: 'bold'}));\n",
              "    li.append(span(\n",
              "        `(${file.type || 'n/a'}) - ${file.size} bytes, ` +\n",
              "        `last modified: ${\n",
              "            file.lastModifiedDate ? file.lastModifiedDate.toLocaleDateString() :\n",
              "                                    'n/a'} - `));\n",
              "    const percent = span('0% done');\n",
              "    li.appendChild(percent);\n",
              "\n",
              "    outputElement.appendChild(li);\n",
              "\n",
              "    const fileDataPromise = new Promise((resolve) => {\n",
              "      const reader = new FileReader();\n",
              "      reader.onload = (e) => {\n",
              "        resolve(e.target.result);\n",
              "      };\n",
              "      reader.readAsArrayBuffer(file);\n",
              "    });\n",
              "    // Wait for the data to be ready.\n",
              "    let fileData = yield {\n",
              "      promise: fileDataPromise,\n",
              "      response: {\n",
              "        action: 'continue',\n",
              "      }\n",
              "    };\n",
              "\n",
              "    // Use a chunked sending to avoid message size limits. See b/62115660.\n",
              "    let position = 0;\n",
              "    do {\n",
              "      const length = Math.min(fileData.byteLength - position, MAX_PAYLOAD_SIZE);\n",
              "      const chunk = new Uint8Array(fileData, position, length);\n",
              "      position += length;\n",
              "\n",
              "      const base64 = btoa(String.fromCharCode.apply(null, chunk));\n",
              "      yield {\n",
              "        response: {\n",
              "          action: 'append',\n",
              "          file: file.name,\n",
              "          data: base64,\n",
              "        },\n",
              "      };\n",
              "\n",
              "      let percentDone = fileData.byteLength === 0 ?\n",
              "          100 :\n",
              "          Math.round((position / fileData.byteLength) * 100);\n",
              "      percent.textContent = `${percentDone}% done`;\n",
              "\n",
              "    } while (position < fileData.byteLength);\n",
              "  }\n",
              "\n",
              "  // All done.\n",
              "  yield {\n",
              "    response: {\n",
              "      action: 'complete',\n",
              "    }\n",
              "  };\n",
              "}\n",
              "\n",
              "scope.google = scope.google || {};\n",
              "scope.google.colab = scope.google.colab || {};\n",
              "scope.google.colab._files = {\n",
              "  _uploadFiles,\n",
              "  _uploadFilesContinue,\n",
              "};\n",
              "})(self);\n",
              "</script> "
            ]
          },
          "metadata": {}
        },
        {
          "output_type": "stream",
          "name": "stdout",
          "text": [
            "Saving leads_gerados.csv to leads_gerados (1).csv\n",
            "Saving verba.csv to verba (1).csv\n"
          ]
        }
      ]
    },
    {
      "cell_type": "code",
      "source": [
        "import warnings\n",
        "warnings.filterwarnings(\"ignore\")\n",
        "import pandas as pd\n",
        "import numpy as np\n",
        "import seaborn as sns\n",
        "import matplotlib.pyplot as plt\n",
        "\n"
      ],
      "metadata": {
        "id": "D6U3lg80zHaN"
      },
      "execution_count": 2,
      "outputs": []
    },
    {
      "cell_type": "code",
      "source": [
        "leads_gerados = pd.read_csv('leads_gerados.csv')"
      ],
      "metadata": {
        "id": "RCOshZDUpCvI"
      },
      "execution_count": 3,
      "outputs": []
    },
    {
      "cell_type": "code",
      "source": [
        "\n",
        "leads_gerados_copy = leads_gerados.copy()\n",
        "leads_gerados_copy['Data'] = pd.to_datetime(leads_gerados_copy['Data'], format='%d/%m/%Y')\n",
        "\n",
        "for month in range(1, 6):\n",
        "    filtered_data = leads_gerados_copy[(leads_gerados_copy['Data'].dt.month == month) &\n",
        "                                       ((leads_gerados_copy['Campanha'] == 'ebook') |\n",
        "                                        (leads_gerados_copy['Campanha'] == 'campanha-cupom') |\n",
        "                                        (leads_gerados_copy['Campanha'] == 'campanha-institucional') |\n",
        "                                        (leads_gerados_copy['Campanha'] == 'webinar'))]\n",
        "\n",
        "    count_ebook = filtered_data[filtered_data['Campanha'] == 'ebook'].shape[0]\n",
        "    count_cupom = filtered_data[filtered_data['Campanha'] == 'campanha-cupom'].shape[0]\n",
        "    count_institucional = filtered_data[filtered_data['Campanha'] == 'campanha-institucional'].shape[0]\n",
        "    count_webinar = filtered_data[filtered_data['Campanha'] == 'webinar'].shape[0]\n",
        "\n",
        "    print(f\"Mês: {month}\")\n",
        "    print(f\"Campanha 'ebook': {count_ebook} leads\")\n",
        "    print(f\"Campanha 'campanha-cupom': {count_cupom} leads\")\n",
        "    print(f\"Campanha 'campanha-institucional': {count_institucional} leads\")\n",
        "    print(f\"Campanha 'webinar': {count_webinar} leads\")\n",
        "    print(\"-\" * 50)\n"
      ],
      "metadata": {
        "id": "d7BTCEdJ2Cs-",
        "colab": {
          "base_uri": "https://localhost:8080/"
        },
        "outputId": "4c9f9ed6-4a82-4d9b-e7f1-419434255bb7"
      },
      "execution_count": 4,
      "outputs": [
        {
          "output_type": "stream",
          "name": "stdout",
          "text": [
            "Mês: 1\n",
            "Campanha 'ebook': 21 leads\n",
            "Campanha 'campanha-cupom': 28 leads\n",
            "Campanha 'campanha-institucional': 19 leads\n",
            "Campanha 'webinar': 17 leads\n",
            "--------------------------------------------------\n",
            "Mês: 2\n",
            "Campanha 'ebook': 19 leads\n",
            "Campanha 'campanha-cupom': 26 leads\n",
            "Campanha 'campanha-institucional': 19 leads\n",
            "Campanha 'webinar': 16 leads\n",
            "--------------------------------------------------\n",
            "Mês: 3\n",
            "Campanha 'ebook': 21 leads\n",
            "Campanha 'campanha-cupom': 23 leads\n",
            "Campanha 'campanha-institucional': 21 leads\n",
            "Campanha 'webinar': 19 leads\n",
            "--------------------------------------------------\n",
            "Mês: 4\n",
            "Campanha 'ebook': 19 leads\n",
            "Campanha 'campanha-cupom': 19 leads\n",
            "Campanha 'campanha-institucional': 14 leads\n",
            "Campanha 'webinar': 20 leads\n",
            "--------------------------------------------------\n",
            "Mês: 5\n",
            "Campanha 'ebook': 20 leads\n",
            "Campanha 'campanha-cupom': 27 leads\n",
            "Campanha 'campanha-institucional': 21 leads\n",
            "Campanha 'webinar': 16 leads\n",
            "--------------------------------------------------\n"
          ]
        }
      ]
    },
    {
      "cell_type": "markdown",
      "source": [
        "# Visualização da tabela Verba"
      ],
      "metadata": {
        "id": "o-k-gdAOEZZx"
      }
    },
    {
      "cell_type": "code",
      "source": [
        "verba = pd.read_csv('verba.csv')\n"
      ],
      "metadata": {
        "id": "NbVnDSv9zNvd"
      },
      "execution_count": 5,
      "outputs": []
    },
    {
      "cell_type": "markdown",
      "source": [
        "\n",
        "### **Qual campanha gerou o CPL (Custo por Lead) mais baixo? Para conseguir calcular o CPL você deve terminar de preencher a aba \"Verba\" da planilha.**"
      ],
      "metadata": {
        "id": "Jv4f3pb7EgdM"
      }
    },
    {
      "cell_type": "code",
      "source": [
        "leads_gerados_copy = leads_gerados.copy()\n",
        "\n",
        "leads_gerados_copy['Data'] = pd.to_datetime(leads_gerados_copy['Data'], format='%d/%m/%Y')\n",
        "\n",
        "meses = ['janeiro', 'fevereiro', 'março', 'abril', 'maio']\n",
        "campanhas = ['ebook', 'campanha-cupom', 'campanha-institucional', 'webinar']\n",
        "leads_por_mes_campanha = {mes: {campanha: 0 for campanha in campanhas} for mes in meses}\n",
        "\n",
        "for month_idx, mes in enumerate(meses, start=1):\n",
        "    for campanha in campanhas:\n",
        "        filtered_data = leads_gerados_copy[(leads_gerados_copy['Data'].dt.month == month_idx) &\n",
        "                                           (leads_gerados_copy['Campanha'] == campanha)]\n",
        "\n",
        "        count_leads = filtered_data.shape[0]\n",
        "        leads_por_mes_campanha[mes][campanha] = count_leads\n",
        "\n",
        "for idx, row in verba.iterrows():\n",
        "    mes = row['Período']\n",
        "    campanha = row['Campanha']\n",
        "    verba.at[idx, 'Leads gerados'] = leads_por_mes_campanha[mes][campanha]\n",
        "\n",
        "verba['Leads gerados'] = verba['Leads gerados'].astype(int)\n"
      ],
      "metadata": {
        "id": "sJp6c1jR0Ksy"
      },
      "execution_count": 6,
      "outputs": []
    },
    {
      "cell_type": "markdown",
      "source": [
        "# Novos dados inseridos na tabela Verba"
      ],
      "metadata": {
        "id": "RxGZhsBbEldq"
      }
    },
    {
      "cell_type": "code",
      "source": [
        "for i in range(len(verba['Leads gerados'])):\n",
        "    investimento_total = float(verba['Investimento total'][i].replace('R$', '').replace('.', '').replace(',', '.'))\n",
        "    leads_gerados = verba['Leads gerados'][i]\n",
        "    cpl = investimento_total / leads_gerados\n",
        "\n",
        "    verba['CPL\\nCusto por Lead'][i] = f\"R$ {cpl:.2f}\".replace('.', ',')\n",
        "verba.rename(columns={'CPL\\nCusto por Lead': 'CPL'}, inplace=True)\n"
      ],
      "metadata": {
        "id": "eyb9Hhsh9wBV"
      },
      "execution_count": 7,
      "outputs": []
    },
    {
      "cell_type": "code",
      "source": [
        "leads_gerados"
      ],
      "metadata": {
        "id": "xpX_ngorp02m",
        "colab": {
          "base_uri": "https://localhost:8080/"
        },
        "outputId": "005d9fcc-96db-494e-f2af-9f36c729c94f"
      },
      "execution_count": 8,
      "outputs": [
        {
          "output_type": "execute_result",
          "data": {
            "text/plain": [
              "16"
            ]
          },
          "metadata": {},
          "execution_count": 8
        }
      ]
    },
    {
      "cell_type": "markdown",
      "source": [
        "# Qual campanha gerou o CPL (Custo por Lead) mais baixo?"
      ],
      "metadata": {
        "id": "scEY0eK2GRZY"
      }
    },
    {
      "cell_type": "code",
      "source": [
        "\n",
        "verba_copy = verba.copy()\n",
        "verba_copy['CPL'] = verba_copy['CPL'].apply(lambda x: float(x.replace('R$ ', '').replace(',', '.')))\n",
        "verba_sorted = verba_copy.sort_values(by='CPL', ascending=True)\n",
        "plt.figure(figsize=(12, 8))\n",
        "bars = plt.bar(verba_sorted['Campanha'], verba_sorted['CPL'], color='skyblue', edgecolor='gray')\n",
        "plt.xlabel('Campanha', fontsize=12)\n",
        "plt.ylabel('CPL (R$)', fontsize=12)\n",
        "plt.title('CPL por Campanha', fontsize=14)\n",
        "plt.xticks(rotation=45, ha='right', fontsize=10)\n",
        "plt.yticks(fontsize=10)\n",
        "plt.grid(axis='y', linestyle='--', alpha=0.7)\n",
        "plt.tight_layout()\n",
        "plt.show()\n",
        "\n",
        "campanha_mais_baixo = verba_copy.loc[verba_copy['CPL'].idxmin(), 'Campanha']\n",
        "cpl_mais_baixo = verba_copy.loc[verba_copy['CPL'].idxmin(), 'CPL']\n",
        "\n",
        "print(f\"A campanha que gerou o CPL mais baixo foi '{campanha_mais_baixo}' com CPL de R$ {cpl_mais_baixo:.2f}.\")\n"
      ],
      "metadata": {
        "id": "vhsTHnnIJspK",
        "colab": {
          "base_uri": "https://localhost:8080/",
          "height": 624
        },
        "outputId": "cc4d6221-faab-4719-b792-936fb80e19d4"
      },
      "execution_count": 9,
      "outputs": [
        {
          "output_type": "display_data",
          "data": {
            "text/plain": [
              "<Figure size 1200x800 with 1 Axes>"
            ],
            "image/png": "[encoded data removed]"
          },
          "metadata": {}
        },
        {
          "output_type": "stream",
          "name": "stdout",
          "text": [
            "A campanha que gerou o CPL mais baixo foi 'webinar' com CPL de R$ 65.04.\n"
          ]
        }
      ]
    },
    {
      "cell_type": "markdown",
      "source": [
        "# Tem alguma campanha que está gerando volume alto de leads, porém com qualificação baixa? Qual?"
      ],
      "metadata": {
        "id": "oTuv5gtzGPep"
      }
    },
    {
      "cell_type": "code",
      "source": [
        "\n",
        "cpl_medio_por_campanha = verba_copy.groupby('Campanha')['CPL'].mean()\n",
        "print(\"CPL médio por campanha:\")\n",
        "for campanha, cpl in cpl_medio_por_campanha.items():\n",
        "    print(f\"- {campanha}: R$ {cpl:.2f}\")\n",
        "print()\n",
        "campanha_alta_leads_baixa_qualificacao = cpl_medio_por_campanha.idxmax()\n",
        "cpl_maximo = cpl_medio_por_campanha.max()\n",
        "print(f\"A campanha com potencial alto volume de leads e possivelmente baixa qualificação é \\n '{campanha_alta_leads_baixa_qualificacao}' com CPL médio de aproximadamente R$ {cpl_maximo:.2f}.\")\n"
      ],
      "metadata": {
        "id": "mIfWiQ22K7RT",
        "colab": {
          "base_uri": "https://localhost:8080/"
        },
        "outputId": "e4be96f0-0093-4d6e-c89b-797e8a445ffa"
      },
      "execution_count": 10,
      "outputs": [
        {
          "output_type": "stream",
          "name": "stdout",
          "text": [
            "CPL médio por campanha:\n",
            "- campanha-cupom: R$ 120.80\n",
            "- campanha-institucional: R$ 260.97\n",
            "- ebook: R$ 123.43\n",
            "- webinar: R$ 79.98\n",
            "\n",
            "A campanha com potencial alto volume de leads e possivelmente baixa qualificação é \n",
            " 'campanha-institucional' com CPL médio de aproximadamente R$ 260.97.\n"
          ]
        }
      ]
    },
    {
      "cell_type": "markdown",
      "source": [
        "# O cliente pediu para desligarmos a campanha “campanha-institucional” sem uma justificativa baseada em dados, apenas porque ele \"cansou\" dessa campanha. Investigue se essa campanha tem performance, ou não, para ser desligada. A performance está diretamente ligada à qualidade dos leads gerados por ela."
      ],
      "metadata": {
        "id": "RfVn2Q2HNGog"
      }
    },
    {
      "cell_type": "code",
      "source": [
        "media_cpl_por_campanha = verba_copy.groupby('Campanha')['CPL'].mean().reset_index()\n",
        "media_cpl_por_campanha.columns = ['Campanha', 'CPL Médio']\n",
        "media_cpl_por_campanha['CPL Médio'] = media_cpl_por_campanha['CPL Médio'].apply(lambda x: f'R$ {x:.2f}')\n",
        "\n",
        "media_cpl_por_campanha\n"
      ],
      "metadata": {
        "id": "6t2HtuxFRcIV",
        "colab": {
          "base_uri": "https://localhost:8080/",
          "height": 175
        },
        "outputId": "9bd6d721-891e-49fb-c13a-8f2ca0d82d96"
      },
      "execution_count": 11,
      "outputs": [
        {
          "output_type": "execute_result",
          "data": {
            "text/plain": [
              "                 Campanha  CPL Médio\n",
              "0          campanha-cupom  R$ 120.80\n",
              "1  campanha-institucional  R$ 260.97\n",
              "2                   ebook  R$ 123.43\n",
              "3                 webinar   R$ 79.98"
            ],
            "text/html": [
              "\n",
              "  <div id=\"df-e0b38f0d-824f-42fc-a042-91270fed9374\" class=\"colab-df-container\">\n",
              "    <div>\n",
              "<style scoped>\n",
              "    .dataframe tbody tr th:only-of-type {\n",
              "        vertical-align: middle;\n",
              "    }\n",
              "\n",
              "    .dataframe tbody tr th {\n",
              "        vertical-align: top;\n",
              "    }\n",
              "\n",
              "    .dataframe thead th {\n",
              "        text-align: right;\n",
              "    }\n",
              "</style>\n",
              "<table border=\"1\" class=\"dataframe\">\n",
              "  <thead>\n",
              "    <tr style=\"text-align: right;\">\n",
              "      <th></th>\n",
              "      <th>Campanha</th>\n",
              "      <th>CPL Médio</th>\n",
              "    </tr>\n",
              "  </thead>\n",
              "  <tbody>\n",
              "    <tr>\n",
              "      <th>0</th>\n",
              "      <td>campanha-cupom</td>\n",
              "      <td>R$ 120.80</td>\n",
              "    </tr>\n",
              "    <tr>\n",
              "      <th>1</th>\n",
              "      <td>campanha-institucional</td>\n",
              "      <td>R$ 260.97</td>\n",
              "    </tr>\n",
              "    <tr>\n",
              "      <th>2</th>\n",
              "      <td>ebook</td>\n",
              "      <td>R$ 123.43</td>\n",
              "    </tr>\n",
              "    <tr>\n",
              "      <th>3</th>\n",
              "      <td>webinar</td>\n",
              "      <td>R$ 79.98</td>\n",
              "    </tr>\n",
              "  </tbody>\n",
              "</table>\n",
              "</div>\n",
              "    <div class=\"colab-df-buttons\">\n",
              "\n",
              "  <div class=\"colab-df-container\">\n",
              "    <button class=\"colab-df-convert\" onclick=\"convertToInteractive('df-e0b38f0d-824f-42fc-a042-91270fed9374')\"\n",
              "            title=\"Convert this dataframe to an interactive table.\"\n",
              "            style=\"display:none;\">\n",
              "\n",
              "  <svg xmlns=\"http://www.w3.org/2000/svg\" height=\"24px\" viewBox=\"0 -960 960 960\">\n",
              "    <path d=\"M120-120v-720h720v720H120Zm60-500h600v-160H180v160Zm220 220h160v-160H400v160Zm0 220h160v-160H400v160ZM180-400h160v-160H180v160Zm440 0h160v-160H620v160ZM180-180h160v-160H180v160Zm440 0h160v-160H620v160Z\"/>\n",
              "  </svg>\n",
              "    </button>\n",
              "\n",
              "  <style>\n",
              "    .colab-df-container {\n",
              "      display:flex;\n",
              "      gap: 12px;\n",
              "    }\n",
              "\n",
              "    .colab-df-convert {\n",
              "      background-color: #E8F0FE;\n",
              "      border: none;\n",
              "      border-radius: 50%;\n",
              "      cursor: pointer;\n",
              "      display: none;\n",
              "      fill: #1967D2;\n",
              "      height: 32px;\n",
              "      padding: 0 0 0 0;\n",
              "      width: 32px;\n",
              "    }\n",
              "\n",
              "    .colab-df-convert:hover {\n",
              "      background-color: #E2EBFA;\n",
              "      box-shadow: 0px 1px 2px rgba(60, 64, 67, 0.3), 0px 1px 3px 1px rgba(60, 64, 67, 0.15);\n",
              "      fill: #174EA6;\n",
              "    }\n",
              "\n",
              "    .colab-df-buttons div {\n",
              "      margin-bottom: 4px;\n",
              "    }\n",
              "\n",
              "    [theme=dark] .colab-df-convert {\n",
              "      background-color: #3B4455;\n",
              "      fill: #D2E3FC;\n",
              "    }\n",
              "\n",
              "    [theme=dark] .colab-df-convert:hover {\n",
              "      background-color: #434B5C;\n",
              "      box-shadow: 0px 1px 3px 1px rgba(0, 0, 0, 0.15);\n",
              "      filter: drop-shadow(0px 1px 2px rgba(0, 0, 0, 0.3));\n",
              "      fill: #FFFFFF;\n",
              "    }\n",
              "  </style>\n",
              "\n",
              "    <script>\n",
              "      const buttonEl =\n",
              "        document.querySelector('#df-e0b38f0d-824f-42fc-a042-91270fed9374 button.colab-df-convert');\n",
              "      buttonEl.style.display =\n",
              "        google.colab.kernel.accessAllowed ? 'block' : 'none';\n",
              "\n",
              "      async function convertToInteractive(key) {\n",
              "        const element = document.querySelector('#df-e0b38f0d-824f-42fc-a042-91270fed9374');\n",
              "        const dataTable =\n",
              "          await google.colab.kernel.invokeFunction('convertToInteractive',\n",
              "                                                    [key], {});\n",
              "        if (!dataTable) return;\n",
              "\n",
              "        const docLinkHtml = 'Like what you see? Visit the ' +\n",
              "          '<a target=\"_blank\" href=https://colab.research.google.com/notebooks/data_table.ipynb>data table notebook</a>'\n",
              "          + ' to learn more about interactive tables.';\n",
              "        element.innerHTML = '';\n",
              "        dataTable['output_type'] = 'display_data';\n",
              "        await google.colab.output.renderOutput(dataTable, element);\n",
              "        const docLink = document.createElement('div');\n",
              "        docLink.innerHTML = docLinkHtml;\n",
              "        element.appendChild(docLink);\n",
              "      }\n",
              "    </script>\n",
              "  </div>\n",
              "\n",
              "\n",
              "<div id=\"df-4fedf15e-fb0d-47e4-8037-e1228864dcfb\">\n",
              "  <button class=\"colab-df-quickchart\" onclick=\"quickchart('df-4fedf15e-fb0d-47e4-8037-e1228864dcfb')\"\n",
              "            title=\"Suggest charts\"\n",
              "            style=\"display:none;\">\n",
              "\n",
              "<svg xmlns=\"http://www.w3.org/2000/svg\" height=\"24px\"viewBox=\"0 0 24 24\"\n",
              "     width=\"24px\">\n",
              "    <g>\n",
              "        <path d=\"M19 3H5c-1.1 0-2 .9-2 2v14c0 1.1.9 2 2 2h14c1.1 0 2-.9 2-2V5c0-1.1-.9-2-2-2zM9 17H7v-7h2v7zm4 0h-2V7h2v10zm4 0h-2v-4h2v4z\"/>\n",
              "    </g>\n",
              "</svg>\n",
              "  </button>\n",
              "\n",
              "<style>\n",
              "  .colab-df-quickchart {\n",
              "      --bg-color: #E8F0FE;\n",
              "      --fill-color: #1967D2;\n",
              "      --hover-bg-color: #E2EBFA;\n",
              "      --hover-fill-color: #174EA6;\n",
              "      --disabled-fill-color: #AAA;\n",
              "      --disabled-bg-color: #DDD;\n",
              "  }\n",
              "\n",
              "  [theme=dark] .colab-df-quickchart {\n",
              "      --bg-color: #3B4455;\n",
              "      --fill-color: #D2E3FC;\n",
              "      --hover-bg-color: #434B5C;\n",
              "      --hover-fill-color: #FFFFFF;\n",
              "      --disabled-bg-color: #3B4455;\n",
              "      --disabled-fill-color: #666;\n",
              "  }\n",
              "\n",
              "  .colab-df-quickchart {\n",
              "    background-color: var(--bg-color);\n",
              "    border: none;\n",
              "    border-radius: 50%;\n",
              "    cursor: pointer;\n",
              "    display: none;\n",
              "    fill: var(--fill-color);\n",
              "    height: 32px;\n",
              "    padding: 0;\n",
              "    width: 32px;\n",
              "  }\n",
              "\n",
              "  .colab-df-quickchart:hover {\n",
              "    background-color: var(--hover-bg-color);\n",
              "    box-shadow: 0 1px 2px rgba(60, 64, 67, 0.3), 0 1px 3px 1px rgba(60, 64, 67, 0.15);\n",
              "    fill: var(--button-hover-fill-color);\n",
              "  }\n",
              "\n",
              "  .colab-df-quickchart-complete:disabled,\n",
              "  .colab-df-quickchart-complete:disabled:hover {\n",
              "    background-color: var(--disabled-bg-color);\n",
              "    fill: var(--disabled-fill-color);\n",
              "    box-shadow: none;\n",
              "  }\n",
              "\n",
              "  .colab-df-spinner {\n",
              "    border: 2px solid var(--fill-color);\n",
              "    border-color: transparent;\n",
              "    border-bottom-color: var(--fill-color);\n",
              "    animation:\n",
              "      spin 1s steps(1) infinite;\n",
              "  }\n",
              "\n",
              "  @keyframes spin {\n",
              "    0% {\n",
              "      border-color: transparent;\n",
              "      border-bottom-color: var(--fill-color);\n",
              "      border-left-color: var(--fill-color);\n",
              "    }\n",
              "    20% {\n",
              "      border-color: transparent;\n",
              "      border-left-color: var(--fill-color);\n",
              "      border-top-color: var(--fill-color);\n",
              "    }\n",
              "    30% {\n",
              "      border-color: transparent;\n",
              "      border-left-color: var(--fill-color);\n",
              "      border-top-color: var(--fill-color);\n",
              "      border-right-color: var(--fill-color);\n",
              "    }\n",
              "    40% {\n",
              "      border-color: transparent;\n",
              "      border-right-color: var(--fill-color);\n",
              "      border-top-color: var(--fill-color);\n",
              "    }\n",
              "    60% {\n",
              "      border-color: transparent;\n",
              "      border-right-color: var(--fill-color);\n",
              "    }\n",
              "    80% {\n",
              "      border-color: transparent;\n",
              "      border-right-color: var(--fill-color);\n",
              "      border-bottom-color: var(--fill-color);\n",
              "    }\n",
              "    90% {\n",
              "      border-color: transparent;\n",
              "      border-bottom-color: var(--fill-color);\n",
              "    }\n",
              "  }\n",
              "</style>\n",
              "\n",
              "  <script>\n",
              "    async function quickchart(key) {\n",
              "      const quickchartButtonEl =\n",
              "        document.querySelector('#' + key + ' button');\n",
              "      quickchartButtonEl.disabled = true;  // To prevent multiple clicks.\n",
              "      quickchartButtonEl.classList.add('colab-df-spinner');\n",
              "      try {\n",
              "        const charts = await google.colab.kernel.invokeFunction(\n",
              "            'suggestCharts', [key], {});\n",
              "      } catch (error) {\n",
              "        console.error('Error during call to suggestCharts:', error);\n",
              "      }\n",
              "      quickchartButtonEl.classList.remove('colab-df-spinner');\n",
              "      quickchartButtonEl.classList.add('colab-df-quickchart-complete');\n",
              "    }\n",
              "    (() => {\n",
              "      let quickchartButtonEl =\n",
              "        document.querySelector('#df-4fedf15e-fb0d-47e4-8037-e1228864dcfb button');\n",
              "      quickchartButtonEl.style.display =\n",
              "        google.colab.kernel.accessAllowed ? 'block' : 'none';\n",
              "    })();\n",
              "  </script>\n",
              "</div>\n",
              "\n",
              "  <div id=\"id_d6b0be5e-bac1-4f57-863a-5d720f390ac1\">\n",
              "    <style>\n",
              "      .colab-df-generate {\n",
              "        background-color: #E8F0FE;\n",
              "        border: none;\n",
              "        border-radius: 50%;\n",
              "        cursor: pointer;\n",
              "        display: none;\n",
              "        fill: #1967D2;\n",
              "        height: 32px;\n",
              "        padding: 0 0 0 0;\n",
              "        width: 32px;\n",
              "      }\n",
              "\n",
              "      .colab-df-generate:hover {\n",
              "        background-color: #E2EBFA;\n",
              "        box-shadow: 0px 1px 2px rgba(60, 64, 67, 0.3), 0px 1px 3px 1px rgba(60, 64, 67, 0.15);\n",
              "        fill: #174EA6;\n",
              "      }\n",
              "\n",
              "      [theme=dark] .colab-df-generate {\n",
              "        background-color: #3B4455;\n",
              "        fill: #D2E3FC;\n",
              "      }\n",
              "\n",
              "      [theme=dark] .colab-df-generate:hover {\n",
              "        background-color: #434B5C;\n",
              "        box-shadow: 0px 1px 3px 1px rgba(0, 0, 0, 0.15);\n",
              "        filter: drop-shadow(0px 1px 2px rgba(0, 0, 0, 0.3));\n",
              "        fill: #FFFFFF;\n",
              "      }\n",
              "    </style>\n",
              "    <button class=\"colab-df-generate\" onclick=\"generateWithVariable('media_cpl_por_campanha')\"\n",
              "            title=\"Generate code using this dataframe.\"\n",
              "            style=\"display:none;\">\n",
              "\n",
              "  <svg xmlns=\"http://www.w3.org/2000/svg\" height=\"24px\"viewBox=\"0 0 24 24\"\n",
              "       width=\"24px\">\n",
              "    <path d=\"M7,19H8.4L18.45,9,17,7.55,7,17.6ZM5,21V16.75L18.45,3.32a2,2,0,0,1,2.83,0l1.4,1.43a1.91,1.91,0,0,1,.58,1.4,1.91,1.91,0,0,1-.58,1.4L9.25,21ZM18.45,9,17,7.55Zm-12,3A5.31,5.31,0,0,0,4.9,8.1,5.31,5.31,0,0,0,1,6.5,5.31,5.31,0,0,0,4.9,4.9,5.31,5.31,0,0,0,6.5,1,5.31,5.31,0,0,0,8.1,4.9,5.31,5.31,0,0,0,12,6.5,5.46,5.46,0,0,0,6.5,12Z\"/>\n",
              "  </svg>\n",
              "    </button>\n",
              "    <script>\n",
              "      (() => {\n",
              "      const buttonEl =\n",
              "        document.querySelector('#id_d6b0be5e-bac1-4f57-863a-5d720f390ac1 button.colab-df-generate');\n",
              "      buttonEl.style.display =\n",
              "        google.colab.kernel.accessAllowed ? 'block' : 'none';\n",
              "\n",
              "      buttonEl.onclick = () => {\n",
              "        google.colab.notebook.generateWithVariable('media_cpl_por_campanha');\n",
              "      }\n",
              "      })();\n",
              "    </script>\n",
              "  </div>\n",
              "\n",
              "    </div>\n",
              "  </div>\n"
            ],
            "application/vnd.google.colaboratory.intrinsic+json": {
              "type": "dataframe",
              "variable_name": "media_cpl_por_campanha",
              "summary": "{\n  \"name\": \"media_cpl_por_campanha\",\n  \"rows\": 4,\n  \"fields\": [\n    {\n      \"column\": \"Campanha\",\n      \"properties\": {\n        \"dtype\": \"string\",\n        \"num_unique_values\": 4,\n        \"samples\": [\n          \"campanha-institucional\",\n          \"webinar\",\n          \"campanha-cupom\"\n        ],\n        \"semantic_type\": \"\",\n        \"description\": \"\"\n      }\n    },\n    {\n      \"column\": \"CPL M\\u00e9dio\",\n      \"properties\": {\n        \"dtype\": \"string\",\n        \"num_unique_values\": 4,\n        \"samples\": [\n          \"R$ 260.97\",\n          \"R$ 79.98\",\n          \"R$ 120.80\"\n        ],\n        \"semantic_type\": \"\",\n        \"description\": \"\"\n      }\n    }\n  ]\n}"
            }
          },
          "metadata": {},
          "execution_count": 11
        }
      ]
    },
    {
      "cell_type": "code",
      "source": [
        "data = {\n",
        "    'Campanha': ['campanha-cupom', 'campanha-institucional', 'ebook', 'webinar'],\n",
        "    'CPL Médio': [120.80, 260.97, 123.43, 79.98]\n",
        "}\n",
        "\n",
        "df = pd.DataFrame(data)\n",
        "plt.figure(figsize=(10, 6))\n",
        "\n",
        "bars = plt.bar(df['Campanha'], df['CPL Médio'], color=['blue', 'green', 'orange', 'red'])\n",
        "\n",
        "plt.xlabel('Campanha')\n",
        "plt.ylabel('CPL Médio (R$)')\n",
        "plt.title('CPL Médio por Campanha')\n",
        "\n",
        "plt.ylim(50, 300)\n",
        "for bar, valor in zip(bars, df['CPL Médio']):\n",
        "    plt.text(bar.get_x() + bar.get_width() / 2, bar.get_height() + 5, f'R$ {valor:.2f}', ha='center', va='bottom')\n",
        "plt.show()\n"
      ],
      "metadata": {
        "id": "QvGtXGzDWJ7d",
        "colab": {
          "base_uri": "https://localhost:8080/",
          "height": 565
        },
        "outputId": "9e0cdfb4-488a-43e5-a454-b9dbaac87ede"
      },
      "execution_count": 12,
      "outputs": [
        {
          "output_type": "display_data",
          "data": {
            "text/plain": [
              "<Figure size 1000x600 with 1 Axes>"
            ],
            "image/png": "[encoded data removed]"
          },
          "metadata": {}
        }
      ]
    },
    {
      "cell_type": "code",
      "source": [],
      "metadata": {
        "id": "zade-Oi6ptQy"
      },
      "execution_count": 13,
      "outputs": []
    }
  ]
}